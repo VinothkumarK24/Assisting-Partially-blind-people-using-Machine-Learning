{
 "cells": [
  {
   "cell_type": "code",
   "execution_count": 1,
   "metadata": {},
   "outputs": [],
   "source": [
    "import pytesseract\n",
    "from gtts import gTTS  \n",
    "from PIL import Image\n",
    "\n",
    "picture = Image.open('pic.jpg')\n",
    "mytext = pytesseract.image_to_string(picture)\n",
    "language = 'en'\n",
    "myobject = gTTS(text=mytext, lang=language, slow=False) \n",
    "myobject.save(\"pic.mp3\")"
   ]
  },
  {
   "cell_type": "code",
   "execution_count": 2,
   "metadata": {},
   "outputs": [],
   "source": []
  }
 ],
 "metadata": {
  "kernelspec": {
   "display_name": "Python 3",
   "language": "python",
   "name": "python3"
  },
  "language_info": {
   "codemirror_mode": {
    "name": "ipython",
    "version": 3
   },
   "file_extension": ".py",
   "mimetype": "text/x-python",
   "name": "python",
   "nbconvert_exporter": "python",
   "pygments_lexer": "ipython3",
   "version": "3.7.4"
  }
 },
 "nbformat": 4,
 "nbformat_minor": 4
}
